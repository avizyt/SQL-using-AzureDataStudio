{
    "metadata": {
        "kernelspec": {
            "name": "SQL",
            "display_name": "SQL",
            "language": "sql"
        },
        "language_info": {
            "name": "sql",
            "version": ""
        }
    },
    "nbformat_minor": 2,
    "nbformat": 4,
    "cells": [
        {
            "cell_type": "markdown",
            "source": [
                "## The Group by clause"
            ],
            "metadata": {
                "azdata_cell_guid": "9652024e-ff1c-41fb-aac3-02ebb1fac315"
            },
            "attachments": {}
        },
        {
            "cell_type": "markdown",
            "source": [
                "GROUP BY clause to group data so the aggregate function can apply to a group of value instead of entire results set."
            ],
            "metadata": {
                "azdata_cell_guid": "cdf82553-3f49-42ea-8f6a-ebd9d7b36ea8"
            },
            "attachments": {}
        },
        {
            "cell_type": "markdown",
            "source": [
                "```(sql)\n",
                "SELECT <aggregate function> (<col1>), <col2> from <table> Group by <col2>\n",
                ""
            ],
            "metadata": {
                "azdata_cell_guid": "0d0d0326-13ef-4a16-a5a9-41310d4ac71f"
            },
            "attachments": {}
        },
        {
            "cell_type": "code",
            "source": [
                "USE AdventureWorks2012\n",
                "\n",
                "SELECT TOP(10) CustomerID,SUM(TotalDue) AS TotalPerCustomer\n",
                "FROM Sales.SalesOrderHeader\n",
                "GROUP BY CustomerID;"
            ],
            "metadata": {
                "azdata_cell_guid": "2bc0c1d1-7a46-460e-a302-5483e546c559",
                "language": "sql"
            },
            "outputs": [
                {
                    "output_type": "display_data",
                    "data": {
                        "text/html": "(10 rows affected)"
                    },
                    "metadata": {}
                },
                {
                    "output_type": "display_data",
                    "data": {
                        "text/html": "Total execution time: 00:00:00.055"
                    },
                    "metadata": {}
                },
                {
                    "output_type": "execute_result",
                    "metadata": {},
                    "execution_count": 3,
                    "data": {
                        "application/vnd.dataresource+json": {
                            "schema": {
                                "fields": [
                                    {
                                        "name": "CustomerID"
                                    },
                                    {
                                        "name": "TotalPerCustomer"
                                    }
                                ]
                            },
                            "data": [
                                {
                                    "0": "11000",
                                    "1": "9115.1341"
                                },
                                {
                                    "0": "11001",
                                    "1": "7054.1875"
                                },
                                {
                                    "0": "11002",
                                    "1": "8966.0143"
                                },
                                {
                                    "0": "11003",
                                    "1": "8993.9155"
                                },
                                {
                                    "0": "11004",
                                    "1": "9056.5911"
                                },
                                {
                                    "0": "11005",
                                    "1": "8974.0698"
                                },
                                {
                                    "0": "11006",
                                    "1": "8971.5283"
                                },
                                {
                                    "0": "11007",
                                    "1": "9073.1551"
                                },
                                {
                                    "0": "11008",
                                    "1": "8957.4726"
                                },
                                {
                                    "0": "11009",
                                    "1": "8940.9197"
                                }
                            ]
                        },
                        "text/html": [
                            "<table>",
                            "<tr><th>CustomerID</th><th>TotalPerCustomer</th></tr>",
                            "<tr><td>11000</td><td>9115.1341</td></tr>",
                            "<tr><td>11001</td><td>7054.1875</td></tr>",
                            "<tr><td>11002</td><td>8966.0143</td></tr>",
                            "<tr><td>11003</td><td>8993.9155</td></tr>",
                            "<tr><td>11004</td><td>9056.5911</td></tr>",
                            "<tr><td>11005</td><td>8974.0698</td></tr>",
                            "<tr><td>11006</td><td>8971.5283</td></tr>",
                            "<tr><td>11007</td><td>9073.1551</td></tr>",
                            "<tr><td>11008</td><td>8957.4726</td></tr>",
                            "<tr><td>11009</td><td>8940.9197</td></tr>",
                            "</table>"
                        ]
                    }
                }
            ],
            "execution_count": 3
        },
        {
            "cell_type": "code",
            "source": [
                "USE AdventureWorks2012\n",
                "\n",
                "SELECT TOP(10)\n",
                "    TerritoryID,\n",
                "    AVG(TotalDue) as AveragePerTerritory\n",
                "from sales.SalesOrderHeader\n",
                "GROUP BY TerritoryID"
            ],
            "metadata": {
                "azdata_cell_guid": "5211fe8d-3621-4210-b0cb-82808e3c3dfe",
                "language": "sql"
            },
            "outputs": [
                {
                    "output_type": "display_data",
                    "data": {
                        "text/html": "(10 rows affected)"
                    },
                    "metadata": {}
                },
                {
                    "output_type": "display_data",
                    "data": {
                        "text/html": "Total execution time: 00:00:00.019"
                    },
                    "metadata": {}
                },
                {
                    "output_type": "execute_result",
                    "metadata": {},
                    "execution_count": 4,
                    "data": {
                        "application/vnd.dataresource+json": {
                            "schema": {
                                "fields": [
                                    {
                                        "name": "TerritoryID"
                                    },
                                    {
                                        "name": "AveragePerTerritory"
                                    }
                                ]
                            },
                            "data": [
                                {
                                    "0": "9",
                                    "1": "1726.4907"
                                },
                                {
                                    "0": "3",
                                    "1": "23151.4266"
                                },
                                {
                                    "0": "6",
                                    "1": "4523.956"
                                },
                                {
                                    "0": "7",
                                    "1": "3038.8283"
                                },
                                {
                                    "0": "1",
                                    "1": "3931.576"
                                },
                                {
                                    "0": "10",
                                    "1": "2663.5752"
                                },
                                {
                                    "0": "4",
                                    "1": "4362.242"
                                },
                                {
                                    "0": "5",
                                    "1": "18280.0398"
                                },
                                {
                                    "0": "2",
                                    "1": "22216.5046"
                                },
                                {
                                    "0": "8",
                                    "1": "2089.142"
                                }
                            ]
                        },
                        "text/html": [
                            "<table>",
                            "<tr><th>TerritoryID</th><th>AveragePerTerritory</th></tr>",
                            "<tr><td>9</td><td>1726.4907</td></tr>",
                            "<tr><td>3</td><td>23151.4266</td></tr>",
                            "<tr><td>6</td><td>4523.956</td></tr>",
                            "<tr><td>7</td><td>3038.8283</td></tr>",
                            "<tr><td>1</td><td>3931.576</td></tr>",
                            "<tr><td>10</td><td>2663.5752</td></tr>",
                            "<tr><td>4</td><td>4362.242</td></tr>",
                            "<tr><td>5</td><td>18280.0398</td></tr>",
                            "<tr><td>2</td><td>22216.5046</td></tr>",
                            "<tr><td>8</td><td>2089.142</td></tr>",
                            "</table>"
                        ]
                    }
                }
            ],
            "execution_count": 4
        },
        {
            "cell_type": "code",
            "source": [
                "USE AdventureWorks2012\n",
                "\n",
                "SELECT TOP(10)\n",
                "    COUNT(*) as CountOfOrders,\n",
                "    YEAR(OrderDate) as OrderYear\n",
                "FROM sales.SalesOrderHeader\n",
                "GROUP by OrderDate"
            ],
            "metadata": {
                "azdata_cell_guid": "7cbf43d8-fe0f-4d5e-b774-71a6422b9081",
                "language": "sql"
            },
            "outputs": [
                {
                    "output_type": "display_data",
                    "data": {
                        "text/html": "(10 rows affected)"
                    },
                    "metadata": {}
                },
                {
                    "output_type": "display_data",
                    "data": {
                        "text/html": "Total execution time: 00:00:00.018"
                    },
                    "metadata": {}
                },
                {
                    "output_type": "execute_result",
                    "metadata": {},
                    "execution_count": 10,
                    "data": {
                        "application/vnd.dataresource+json": {
                            "schema": {
                                "fields": [
                                    {
                                        "name": "CountOfOrders"
                                    },
                                    {
                                        "name": "OrderYear"
                                    }
                                ]
                            },
                            "data": [
                                {
                                    "0": "8",
                                    "1": "2011"
                                },
                                {
                                    "0": "4",
                                    "1": "2011"
                                },
                                {
                                    "0": "5",
                                    "1": "2012"
                                },
                                {
                                    "0": "6",
                                    "1": "2012"
                                },
                                {
                                    "0": "12",
                                    "1": "2013"
                                },
                                {
                                    "0": "84",
                                    "1": "2014"
                                },
                                {
                                    "0": "5",
                                    "1": "2011"
                                },
                                {
                                    "0": "7",
                                    "1": "2011"
                                },
                                {
                                    "0": "12",
                                    "1": "2012"
                                },
                                {
                                    "0": "3",
                                    "1": "2012"
                                }
                            ]
                        },
                        "text/html": [
                            "<table>",
                            "<tr><th>CountOfOrders</th><th>OrderYear</th></tr>",
                            "<tr><td>8</td><td>2011</td></tr>",
                            "<tr><td>4</td><td>2011</td></tr>",
                            "<tr><td>5</td><td>2012</td></tr>",
                            "<tr><td>6</td><td>2012</td></tr>",
                            "<tr><td>12</td><td>2013</td></tr>",
                            "<tr><td>84</td><td>2014</td></tr>",
                            "<tr><td>5</td><td>2011</td></tr>",
                            "<tr><td>7</td><td>2011</td></tr>",
                            "<tr><td>12</td><td>2012</td></tr>",
                            "<tr><td>3</td><td>2012</td></tr>",
                            "</table>"
                        ]
                    }
                }
            ],
            "execution_count": 10
        },
        {
            "cell_type": "code",
            "source": [
                "USE AdventureWorks2012\n",
                "\n",
                "SELECT\n",
                "    COUNT(*) as CountOfOrders,\n",
                "    YEAR(OrderDate) as OrderYear\n",
                "FROM sales.SalesOrderHeader\n",
                "GROUP by YEAR(OrderDate)"
            ],
            "metadata": {
                "azdata_cell_guid": "3d404ebe-a1e4-41d3-bf08-7d3450a01fd5",
                "language": "sql"
            },
            "outputs": [
                {
                    "output_type": "display_data",
                    "data": {
                        "text/html": "(4 rows affected)"
                    },
                    "metadata": {}
                },
                {
                    "output_type": "display_data",
                    "data": {
                        "text/html": "Total execution time: 00:00:00.012"
                    },
                    "metadata": {}
                },
                {
                    "output_type": "execute_result",
                    "metadata": {},
                    "execution_count": 6,
                    "data": {
                        "application/vnd.dataresource+json": {
                            "schema": {
                                "fields": [
                                    {
                                        "name": "CountOfOrders"
                                    },
                                    {
                                        "name": "OrderYear"
                                    }
                                ]
                            },
                            "data": [
                                {
                                    "0": "14182",
                                    "1": "2013"
                                },
                                {
                                    "0": "11761",
                                    "1": "2014"
                                },
                                {
                                    "0": "1607",
                                    "1": "2011"
                                },
                                {
                                    "0": "3915",
                                    "1": "2012"
                                }
                            ]
                        },
                        "text/html": [
                            "<table>",
                            "<tr><th>CountOfOrders</th><th>OrderYear</th></tr>",
                            "<tr><td>14182</td><td>2013</td></tr>",
                            "<tr><td>11761</td><td>2014</td></tr>",
                            "<tr><td>1607</td><td>2011</td></tr>",
                            "<tr><td>3915</td><td>2012</td></tr>",
                            "</table>"
                        ]
                    }
                }
            ],
            "execution_count": 6
        },
        {
            "cell_type": "code",
            "source": [
                "USE AdventureWorks2012\n",
                "\n",
                "SELECT COUNT(*) as CountOfProduct, ProductLine\n",
                "FROM Production.Product\n",
                "GROUP BY ProductLine"
            ],
            "metadata": {
                "azdata_cell_guid": "ca42d9aa-a815-4d73-81e7-d9f276461a95",
                "language": "sql"
            },
            "outputs": [
                {
                    "output_type": "display_data",
                    "data": {
                        "text/html": "(5 rows affected)"
                    },
                    "metadata": {}
                },
                {
                    "output_type": "display_data",
                    "data": {
                        "text/html": "Total execution time: 00:00:00.029"
                    },
                    "metadata": {}
                },
                {
                    "output_type": "execute_result",
                    "metadata": {},
                    "execution_count": 7,
                    "data": {
                        "application/vnd.dataresource+json": {
                            "schema": {
                                "fields": [
                                    {
                                        "name": "CountOfProduct"
                                    },
                                    {
                                        "name": "ProductLine"
                                    }
                                ]
                            },
                            "data": [
                                {
                                    "0": "226",
                                    "1": "NULL"
                                },
                                {
                                    "0": "91",
                                    "1": "M "
                                },
                                {
                                    "0": "100",
                                    "1": "R "
                                },
                                {
                                    "0": "35",
                                    "1": "S "
                                },
                                {
                                    "0": "52",
                                    "1": "T "
                                }
                            ]
                        },
                        "text/html": [
                            "<table>",
                            "<tr><th>CountOfProduct</th><th>ProductLine</th></tr>",
                            "<tr><td>226</td><td>NULL</td></tr>",
                            "<tr><td>91</td><td>M </td></tr>",
                            "<tr><td>100</td><td>R </td></tr>",
                            "<tr><td>35</td><td>S </td></tr>",
                            "<tr><td>52</td><td>T </td></tr>",
                            "</table>"
                        ]
                    }
                }
            ],
            "execution_count": 7
        },
        {
            "cell_type": "code",
            "source": [
                "use AdventureWorks2012\n",
                "\n",
                "SELECT TOP(20)\n",
                "    COUNT(*) as CountOfDetailLines, SalesOrderID\n",
                "from sales.SalesOrderDetail\n",
                "group by SalesOrderID\n",
                "HAVING count(*) > 3;"
            ],
            "metadata": {
                "azdata_cell_guid": "5be2fa16-c82c-42fe-a853-3fca28380f2d",
                "language": "sql"
            },
            "outputs": [
                {
                    "output_type": "display_data",
                    "data": {
                        "text/html": "(20 rows affected)"
                    },
                    "metadata": {}
                },
                {
                    "output_type": "display_data",
                    "data": {
                        "text/html": "Total execution time: 00:00:00.009"
                    },
                    "metadata": {}
                },
                {
                    "output_type": "execute_result",
                    "metadata": {},
                    "execution_count": 9,
                    "data": {
                        "application/vnd.dataresource+json": {
                            "schema": {
                                "fields": [
                                    {
                                        "name": "CountOfDetailLines"
                                    },
                                    {
                                        "name": "SalesOrderID"
                                    }
                                ]
                            },
                            "data": [
                                {
                                    "0": "12",
                                    "1": "43659"
                                },
                                {
                                    "0": "15",
                                    "1": "43661"
                                },
                                {
                                    "0": "22",
                                    "1": "43662"
                                },
                                {
                                    "0": "8",
                                    "1": "43664"
                                },
                                {
                                    "0": "10",
                                    "1": "43665"
                                },
                                {
                                    "0": "6",
                                    "1": "43666"
                                },
                                {
                                    "0": "4",
                                    "1": "43667"
                                },
                                {
                                    "0": "29",
                                    "1": "43668"
                                },
                                {
                                    "0": "4",
                                    "1": "43670"
                                },
                                {
                                    "0": "11",
                                    "1": "43671"
                                },
                                {
                                    "0": "11",
                                    "1": "43673"
                                },
                                {
                                    "0": "9",
                                    "1": "43675"
                                },
                                {
                                    "0": "5",
                                    "1": "43676"
                                },
                                {
                                    "0": "12",
                                    "1": "43677"
                                },
                                {
                                    "0": "19",
                                    "1": "43678"
                                },
                                {
                                    "0": "15",
                                    "1": "43680"
                                },
                                {
                                    "0": "21",
                                    "1": "43681"
                                },
                                {
                                    "0": "5",
                                    "1": "43682"
                                },
                                {
                                    "0": "13",
                                    "1": "43683"
                                },
                                {
                                    "0": "6",
                                    "1": "43684"
                                }
                            ]
                        },
                        "text/html": [
                            "<table>",
                            "<tr><th>CountOfDetailLines</th><th>SalesOrderID</th></tr>",
                            "<tr><td>12</td><td>43659</td></tr>",
                            "<tr><td>15</td><td>43661</td></tr>",
                            "<tr><td>22</td><td>43662</td></tr>",
                            "<tr><td>8</td><td>43664</td></tr>",
                            "<tr><td>10</td><td>43665</td></tr>",
                            "<tr><td>6</td><td>43666</td></tr>",
                            "<tr><td>4</td><td>43667</td></tr>",
                            "<tr><td>29</td><td>43668</td></tr>",
                            "<tr><td>4</td><td>43670</td></tr>",
                            "<tr><td>11</td><td>43671</td></tr>",
                            "<tr><td>11</td><td>43673</td></tr>",
                            "<tr><td>9</td><td>43675</td></tr>",
                            "<tr><td>5</td><td>43676</td></tr>",
                            "<tr><td>12</td><td>43677</td></tr>",
                            "<tr><td>19</td><td>43678</td></tr>",
                            "<tr><td>15</td><td>43680</td></tr>",
                            "<tr><td>21</td><td>43681</td></tr>",
                            "<tr><td>5</td><td>43682</td></tr>",
                            "<tr><td>13</td><td>43683</td></tr>",
                            "<tr><td>6</td><td>43684</td></tr>",
                            "</table>"
                        ]
                    }
                }
            ],
            "execution_count": 9
        },
        {
            "cell_type": "code",
            "source": [
                ""
            ],
            "metadata": {
                "azdata_cell_guid": "82daff41-8357-47d3-9b54-80d830c7e328",
                "language": "sql"
            },
            "outputs": [],
            "execution_count": null
        }
    ]
}