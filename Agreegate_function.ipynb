{
    "metadata": {
        "kernelspec": {
            "name": "SQL",
            "display_name": "SQL",
            "language": "sql"
        },
        "language_info": {
            "name": "sql",
            "version": ""
        }
    },
    "nbformat_minor": 2,
    "nbformat": 4,
    "cells": [
        {
            "cell_type": "markdown",
            "source": [
                "## Aggregate Functions\n",
                ""
            ],
            "metadata": {
                "azdata_cell_guid": "911310ad-9d71-49dd-8431-af478fc1893e"
            },
            "attachments": {}
        },
        {
            "cell_type": "markdown",
            "source": [
                "* COUNT: Counts the number of rows or the number of non-NULL values in a column.\n",
                "* SUM: Adds up the values in numeric or money data.\n",
                "* AVG: Calculates the average in numeric or money data.\n",
                "* MIN: Finds the lowest value in the set of values. This can be used on string data as well as numeric, money, or date data.\n",
                "* MAX: Finds the highest value in the set of values. This can be used on string data as well as numeric, money, or date data.\n",
                "\n",
                "- AVG and SUM only operate on numeric and money data.\n",
                "- MIN, MAx, COUNT will work on numeric,money, string columns.\n",
                ""
            ],
            "metadata": {
                "azdata_cell_guid": "7c0b5cf8-4400-418a-be3c-bafd045618b6"
            },
            "attachments": {}
        },
        {
            "cell_type": "code",
            "source": [
                "USE AdventureWorks2012\n",
                "\n",
                "SELECT COUNT(*) as CountOfRows,\n",
                "    MAX(TotalDue) as MaxTotal,\n",
                "    MIN(TotalDue) as MinTotal,\n",
                "    SUM(TotalDue) as SumOfTotal,\n",
                "    AVG(TotalDue) as AvgTotal\n",
                "FROM Sales.SalesOrderHeader;"
            ],
            "metadata": {
                "azdata_cell_guid": "79364965-0771-4348-a811-160f4061be2c",
                "language": "sql"
            },
            "outputs": [
                {
                    "output_type": "display_data",
                    "data": {
                        "text/html": "(1 row affected)"
                    },
                    "metadata": {}
                },
                {
                    "output_type": "display_data",
                    "data": {
                        "text/html": "Total execution time: 00:00:00.788"
                    },
                    "metadata": {}
                },
                {
                    "output_type": "execute_result",
                    "metadata": {},
                    "execution_count": 1,
                    "data": {
                        "application/vnd.dataresource+json": {
                            "schema": {
                                "fields": [
                                    {
                                        "name": "CountOfRows"
                                    },
                                    {
                                        "name": "MaxTotal"
                                    },
                                    {
                                        "name": "MinTotal"
                                    },
                                    {
                                        "name": "SumOfTotal"
                                    },
                                    {
                                        "name": "AvgTotal"
                                    }
                                ]
                            },
                            "data": [
                                {
                                    "0": "31465",
                                    "1": "187487.825",
                                    "2": "1.5183",
                                    "3": "123216786.1159",
                                    "4": "3915.9951"
                                }
                            ]
                        },
                        "text/html": [
                            "<table>",
                            "<tr><th>CountOfRows</th><th>MaxTotal</th><th>MinTotal</th><th>SumOfTotal</th><th>AvgTotal</th></tr>",
                            "<tr><td>31465</td><td>187487.825</td><td>1.5183</td><td>123216786.1159</td><td>3915.9951</td></tr>",
                            "</table>"
                        ]
                    }
                }
            ],
            "execution_count": 1
        },
        {
            "cell_type": "code",
            "source": [
                "use AdventureWorks2012\n",
                "\n",
                "SELECT MIN(Name) as MinName,\n",
                "Max(Name) as MaxName, MIN(SellStartDate) as MinSallStartDate\n",
                "from Production.Product"
            ],
            "metadata": {
                "azdata_cell_guid": "97cdbc1a-9157-4a51-b9f0-57125695f434",
                "language": "sql"
            },
            "outputs": [
                {
                    "output_type": "display_data",
                    "data": {
                        "text/html": "(1 row affected)"
                    },
                    "metadata": {}
                },
                {
                    "output_type": "display_data",
                    "data": {
                        "text/html": "Total execution time: 00:00:00.008"
                    },
                    "metadata": {}
                },
                {
                    "output_type": "execute_result",
                    "metadata": {},
                    "execution_count": 4,
                    "data": {
                        "application/vnd.dataresource+json": {
                            "schema": {
                                "fields": [
                                    {
                                        "name": "MinName"
                                    },
                                    {
                                        "name": "MaxName"
                                    },
                                    {
                                        "name": "MinSallStartDate"
                                    }
                                ]
                            },
                            "data": [
                                {
                                    "0": "Adjustable Race",
                                    "1": "Women's Tights, S",
                                    "2": "2008-04-30 00:00:00.000"
                                }
                            ]
                        },
                        "text/html": [
                            "<table>",
                            "<tr><th>MinName</th><th>MaxName</th><th>MinSallStartDate</th></tr>",
                            "<tr><td>Adjustable Race</td><td>Women's Tights, S</td><td>2008-04-30 00:00:00.000</td></tr>",
                            "</table>"
                        ]
                    }
                }
            ],
            "execution_count": 4
        },
        {
            "cell_type": "code",
            "source": [
                "use AdventureWorks2012\n",
                "\n",
                "select count(*) as CountOfRows,\n",
                "    count(color) as CountOfColor,\n",
                "    count(DISTINCT Color) as CountOfDistinctColor\n",
                "from Production.Product"
            ],
            "metadata": {
                "language": "sql",
                "azdata_cell_guid": "7b793806-6b76-4a74-a443-95421e8ae392"
            },
            "outputs": [
                {
                    "output_type": "display_data",
                    "data": {
                        "text/html": "Warning: Null value is eliminated by an aggregate or other SET operation."
                    },
                    "metadata": {}
                },
                {
                    "output_type": "display_data",
                    "data": {
                        "text/html": "(1 row affected)"
                    },
                    "metadata": {}
                },
                {
                    "output_type": "display_data",
                    "data": {
                        "text/html": "Total execution time: 00:00:00.019"
                    },
                    "metadata": {}
                },
                {
                    "output_type": "execute_result",
                    "metadata": {},
                    "execution_count": 5,
                    "data": {
                        "application/vnd.dataresource+json": {
                            "schema": {
                                "fields": [
                                    {
                                        "name": "CountOfRows"
                                    },
                                    {
                                        "name": "CountOfColor"
                                    },
                                    {
                                        "name": "CountOfDistinctColor"
                                    }
                                ]
                            },
                            "data": [
                                {
                                    "0": "504",
                                    "1": "256",
                                    "2": "9"
                                }
                            ]
                        },
                        "text/html": [
                            "<table>",
                            "<tr><th>CountOfRows</th><th>CountOfColor</th><th>CountOfDistinctColor</th></tr>",
                            "<tr><td>504</td><td>256</td><td>9</td></tr>",
                            "</table>"
                        ]
                    }
                }
            ],
            "execution_count": 5
        },
        {
            "cell_type": "code",
            "source": [
                "USE AdventureWorks2012\n",
                "\n",
                "SELECT Count(*) as CountOfRows,\n",
                "    count(color) as CountOfColor, \n",
                "    count(DISTINCT Color) as CountOFDistinctColor\n",
                "from Production.Product"
            ],
            "metadata": {
                "language": "sql",
                "azdata_cell_guid": "6fc2afa6-3691-4e17-baa2-87a81959e406"
            },
            "outputs": [
                {
                    "output_type": "display_data",
                    "data": {
                        "text/html": "Warning: Null value is eliminated by an aggregate or other SET operation."
                    },
                    "metadata": {}
                },
                {
                    "output_type": "display_data",
                    "data": {
                        "text/html": "(1 row affected)"
                    },
                    "metadata": {}
                },
                {
                    "output_type": "display_data",
                    "data": {
                        "text/html": "Total execution time: 00:00:00.043"
                    },
                    "metadata": {}
                },
                {
                    "output_type": "execute_result",
                    "metadata": {},
                    "execution_count": 3,
                    "data": {
                        "application/vnd.dataresource+json": {
                            "schema": {
                                "fields": [
                                    {
                                        "name": "CountOfRows"
                                    },
                                    {
                                        "name": "CountOfColor"
                                    },
                                    {
                                        "name": "CountOFDistinctColor"
                                    }
                                ]
                            },
                            "data": [
                                {
                                    "0": "504",
                                    "1": "256",
                                    "2": "9"
                                }
                            ]
                        },
                        "text/html": [
                            "<table>",
                            "<tr><th>CountOfRows</th><th>CountOfColor</th><th>CountOFDistinctColor</th></tr>",
                            "<tr><td>504</td><td>256</td><td>9</td></tr>",
                            "</table>"
                        ]
                    }
                }
            ],
            "execution_count": 3
        }
    ]
}