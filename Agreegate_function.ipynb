{
    "metadata": {
        "kernelspec": {
            "name": "SQL",
            "display_name": "SQL",
            "language": "sql"
        },
        "language_info": {
            "name": "sql",
            "version": ""
        }
    },
    "nbformat_minor": 2,
    "nbformat": 4,
    "cells": [
        {
            "cell_type": "markdown",
            "source": [
                "## Aggregate Functions\n",
                ""
            ],
            "metadata": {
                "azdata_cell_guid": "911310ad-9d71-49dd-8431-af478fc1893e"
            },
            "attachments": {}
        },
        {
            "cell_type": "markdown",
            "source": [
                "* COUNT: Counts the number of rows or the number of non-NULL values in a column.\n",
                "* SUM: Adds up the values in numeric or money data.\n",
                "* AVG: Calculates the average in numeric or money data.\n",
                "* MIN: Finds the lowest value in the set of values. This can be used on string data as well as numeric, money, or date data.\n",
                "* MAX: Finds the highest value in the set of values. This can be used on string data as well as numeric, money, or date data.\n",
                "\n",
                "- AVG and SUM only operate on numeric and money data.\n",
                "- MIN, MAx, COUNT will work on numeric,money, string columns.\n",
                ""
            ],
            "metadata": {
                "azdata_cell_guid": "7c0b5cf8-4400-418a-be3c-bafd045618b6"
            },
            "attachments": {}
        },
        {
            "cell_type": "code",
            "source": [
                "USE AdventureWorks2012\n",
                "\n",
                "SELECT COUNT(*) as CountOfRows,\n",
                "    MAX(TotalDue) as MaxTotal,\n",
                "    MIN(TotalDue) as MinTotal,\n",
                "    SUM(TotalDue) as SumOfTotal,\n",
                "    AVG(TotalDue) as AvgTotal\n",
                "FROM Sales.SalesOrderHeader;"
            ],
            "metadata": {
                "azdata_cell_guid": "79364965-0771-4348-a811-160f4061be2c",
                "language": "sql"
            },
            "outputs": [
                {
                    "output_type": "display_data",
                    "data": {
                        "text/html": "(1 row affected)"
                    },
                    "metadata": {}
                },
                {
                    "output_type": "display_data",
                    "data": {
                        "text/html": "Total execution time: 00:00:00.788"
                    },
                    "metadata": {}
                },
                {
                    "output_type": "execute_result",
                    "metadata": {},
                    "execution_count": 1,
                    "data": {
                        "application/vnd.dataresource+json": {
                            "schema": {
                                "fields": [
                                    {
                                        "name": "CountOfRows"
                                    },
                                    {
                                        "name": "MaxTotal"
                                    },
                                    {
                                        "name": "MinTotal"
                                    },
                                    {
                                        "name": "SumOfTotal"
                                    },
                                    {
                                        "name": "AvgTotal"
                                    }
                                ]
                            },
                            "data": [
                                {
                                    "0": "31465",
                                    "1": "187487.825",
                                    "2": "1.5183",
                                    "3": "123216786.1159",
                                    "4": "3915.9951"
                                }
                            ]
                        },
                        "text/html": [
                            "<table>",
                            "<tr><th>CountOfRows</th><th>MaxTotal</th><th>MinTotal</th><th>SumOfTotal</th><th>AvgTotal</th></tr>",
                            "<tr><td>31465</td><td>187487.825</td><td>1.5183</td><td>123216786.1159</td><td>3915.9951</td></tr>",
                            "</table>"
                        ]
                    }
                }
            ],
            "execution_count": 1
        },
        {
            "cell_type": "code",
            "source": [
                "use AdventureWorks2012\n",
                "SELECT MIN(Name) as MinName,\n",
                "Max(Name) as MaxName, MIN(SellStartDate) as MinSallStartDate\n",
                "from Production.Product"
            ],
            "metadata": {
                "azdata_cell_guid": "97cdbc1a-9157-4a51-b9f0-57125695f434",
                "language": "sql"
            },
            "outputs": [
                {
                    "output_type": "display_data",
                    "data": {
                        "text/html": "(1 row affected)"
                    },
                    "metadata": {}
                },
                {
                    "output_type": "display_data",
                    "data": {
                        "text/html": "Total execution time: 00:00:00.039"
                    },
                    "metadata": {}
                },
                {
                    "output_type": "execute_result",
                    "execution_count": 3,
                    "data": {
                        "application/vnd.dataresource+json": {
                            "schema": {
                                "fields": [
                                    {
                                        "name": "MinName"
                                    },
                                    {
                                        "name": "MaxName"
                                    },
                                    {
                                        "name": "MinSallStartDate"
                                    }
                                ]
                            },
                            "data": [
                                {
                                    "0": "Adjustable Race",
                                    "1": "Women's Tights, S",
                                    "2": "2008-04-30 00:00:00.000"
                                }
                            ]
                        },
                        "text/html": "<table><tr><th>MinName</th><th>MaxName</th><th>MinSallStartDate</th></tr><tr><td>Adjustable Race</td><td>Women's Tights, S</td><td>2008-04-30 00:00:00.000</td></tr></table>"
                    },
                    "metadata": {}
                }
            ],
            "execution_count": 3
        },
        {
            "cell_type": "code",
            "source": [
                "use AdventureWorks2012\n",
                "\n",
                "select count(*) as CountOfRows,\n",
                "    count(color) as CountOfColor,\n",
                "    count(DISTINCT Color) as CountOfDistinctColor\n",
                "from Production.Product"
            ],
            "metadata": {
                "language": "sql",
                "azdata_cell_guid": "7b793806-6b76-4a74-a443-95421e8ae392"
            },
            "outputs": [
                {
                    "output_type": "display_data",
                    "data": {
                        "text/html": "Warning: Null value is eliminated by an aggregate or other SET operation."
                    },
                    "metadata": {}
                },
                {
                    "output_type": "display_data",
                    "data": {
                        "text/html": "(1 row affected)"
                    },
                    "metadata": {}
                },
                {
                    "output_type": "display_data",
                    "data": {
                        "text/html": "Total execution time: 00:00:00.114"
                    },
                    "metadata": {}
                },
                {
                    "output_type": "execute_result",
                    "execution_count": 4,
                    "data": {
                        "application/vnd.dataresource+json": {
                            "schema": {
                                "fields": [
                                    {
                                        "name": "countOfRows"
                                    },
                                    {
                                        "name": "countofColor"
                                    },
                                    {
                                        "name": "CountOfDistinctColor"
                                    }
                                ]
                            },
                            "data": [
                                {
                                    "0": "504",
                                    "1": "256",
                                    "2": "9"
                                }
                            ]
                        },
                        "text/html": "<table><tr><th>countOfRows</th><th>countofColor</th><th>CountOfDistinctColor</th></tr><tr><td>504</td><td>256</td><td>9</td></tr></table>"
                    },
                    "metadata": {}
                }
            ],
            "execution_count": 4
        },
        {
            "cell_type": "code",
            "source": [
                "USE AdventureWorks2012\n",
                "\n",
                "SELECT Count(*) as CountOfRows,\n",
                "    count(color) as CountOfColor, \n",
                "    count(DISTINCT Color) as CountOFDistinctColor\n",
                "from Production.Product"
            ],
            "metadata": {
                "language": "sql",
                "azdata_cell_guid": "6fc2afa6-3691-4e17-baa2-87a81959e406"
            },
            "outputs": [
                {
                    "output_type": "display_data",
                    "data": {
                        "text/html": "Warning: Null value is eliminated by an aggregate or other SET operation."
                    },
                    "metadata": {}
                },
                {
                    "output_type": "display_data",
                    "data": {
                        "text/html": "(1 row affected)"
                    },
                    "metadata": {}
                },
                {
                    "output_type": "display_data",
                    "data": {
                        "text/html": "Total execution time: 00:00:00.043"
                    },
                    "metadata": {}
                },
                {
                    "output_type": "execute_result",
                    "metadata": {},
                    "execution_count": 3,
                    "data": {
                        "application/vnd.dataresource+json": {
                            "schema": {
                                "fields": [
                                    {
                                        "name": "CountOfRows"
                                    },
                                    {
                                        "name": "CountOfColor"
                                    },
                                    {
                                        "name": "CountOFDistinctColor"
                                    }
                                ]
                            },
                            "data": [
                                {
                                    "0": "504",
                                    "1": "256",
                                    "2": "9"
                                }
                            ]
                        },
                        "text/html": [
                            "<table>",
                            "<tr><th>CountOfRows</th><th>CountOfColor</th><th>CountOFDistinctColor</th></tr>",
                            "<tr><td>504</td><td>256</td><td>9</td></tr>",
                            "</table>"
                        ]
                    }
                }
            ],
            "execution_count": 3
        },
        {
            "cell_type": "markdown",
            "source": [
                "### Group BY Clause\n",
                ""
            ],
            "metadata": {
                "language": "sql",
                "azdata_cell_guid": "08fa771d-e977-4473-a690-a8bc85254415"
            },
            "attachments": {}
        },
        {
            "cell_type": "code",
            "source": [
                "USE AdventureWorks2012\n",
                "\n",
                "SELECT TOP(10) CustomerID, \n",
                "    SUM(TotalDue) as TotalPerCustomer\n",
                "From Sales.SalesOrderHeader\n",
                "group by CustomerID"
            ],
            "metadata": {
                "language": "sql",
                "azdata_cell_guid": "93ddb428-22fd-498d-8953-716514845923"
            },
            "outputs": [
                {
                    "output_type": "display_data",
                    "data": {
                        "text/html": "(10 rows affected)"
                    },
                    "metadata": {}
                },
                {
                    "output_type": "display_data",
                    "data": {
                        "text/html": "Total execution time: 00:00:00.006"
                    },
                    "metadata": {}
                },
                {
                    "output_type": "execute_result",
                    "execution_count": 11,
                    "data": {
                        "application/vnd.dataresource+json": {
                            "schema": {
                                "fields": [
                                    {
                                        "name": "CustomerID"
                                    },
                                    {
                                        "name": "TotalPerCustomer"
                                    }
                                ]
                            },
                            "data": [
                                {
                                    "0": "11000",
                                    "1": "9115.1341"
                                },
                                {
                                    "0": "11001",
                                    "1": "7054.1875"
                                },
                                {
                                    "0": "11002",
                                    "1": "8966.0143"
                                },
                                {
                                    "0": "11003",
                                    "1": "8993.9155"
                                },
                                {
                                    "0": "11004",
                                    "1": "9056.5911"
                                },
                                {
                                    "0": "11005",
                                    "1": "8974.0698"
                                },
                                {
                                    "0": "11006",
                                    "1": "8971.5283"
                                },
                                {
                                    "0": "11007",
                                    "1": "9073.1551"
                                },
                                {
                                    "0": "11008",
                                    "1": "8957.4726"
                                },
                                {
                                    "0": "11009",
                                    "1": "8940.9197"
                                }
                            ]
                        },
                        "text/html": "<table><tr><th>CustomerID</th><th>TotalPerCustomer</th></tr><tr><td>11000</td><td>9115.1341</td></tr><tr><td>11001</td><td>7054.1875</td></tr><tr><td>11002</td><td>8966.0143</td></tr><tr><td>11003</td><td>8993.9155</td></tr><tr><td>11004</td><td>9056.5911</td></tr><tr><td>11005</td><td>8974.0698</td></tr><tr><td>11006</td><td>8971.5283</td></tr><tr><td>11007</td><td>9073.1551</td></tr><tr><td>11008</td><td>8957.4726</td></tr><tr><td>11009</td><td>8940.9197</td></tr></table>"
                    },
                    "metadata": {}
                }
            ],
            "execution_count": 11
        },
        {
            "cell_type": "code",
            "source": [
                ""
            ],
            "metadata": {
                "azdata_cell_guid": "8b9c75e8-fdba-4f15-91f3-3e949613b80d",
                "language": "sql"
            },
            "outputs": [],
            "execution_count": null
        },
        {
            "cell_type": "code",
            "source": [
                "USE AdventureWorks2012\n",
                "\n",
                "SELECT TOP(10) TerritoryID,\n",
                "    AVG(TotalDue) as AveragePerTerritory\n",
                "from sales.SalesOrderHeader\n",
                "GROUP BY TerritoryID\n",
                ""
            ],
            "metadata": {
                "azdata_cell_guid": "812e8bbf-1515-4ae1-a8be-ebc4a1e87ddd",
                "language": "sql"
            },
            "outputs": [
                {
                    "output_type": "display_data",
                    "data": {
                        "text/html": "(10 rows affected)"
                    },
                    "metadata": {}
                },
                {
                    "output_type": "display_data",
                    "data": {
                        "text/html": "Total execution time: 00:00:00.018"
                    },
                    "metadata": {}
                },
                {
                    "output_type": "execute_result",
                    "execution_count": 12,
                    "data": {
                        "application/vnd.dataresource+json": {
                            "schema": {
                                "fields": [
                                    {
                                        "name": "TerritoryID"
                                    },
                                    {
                                        "name": "AveragePerTerritory"
                                    }
                                ]
                            },
                            "data": [
                                {
                                    "0": "9",
                                    "1": "1726.4907"
                                },
                                {
                                    "0": "3",
                                    "1": "23151.4266"
                                },
                                {
                                    "0": "6",
                                    "1": "4523.956"
                                },
                                {
                                    "0": "7",
                                    "1": "3038.8283"
                                },
                                {
                                    "0": "1",
                                    "1": "3931.576"
                                },
                                {
                                    "0": "10",
                                    "1": "2663.5752"
                                },
                                {
                                    "0": "4",
                                    "1": "4362.242"
                                },
                                {
                                    "0": "5",
                                    "1": "18280.0398"
                                },
                                {
                                    "0": "2",
                                    "1": "22216.5046"
                                },
                                {
                                    "0": "8",
                                    "1": "2089.142"
                                }
                            ]
                        },
                        "text/html": "<table><tr><th>TerritoryID</th><th>AveragePerTerritory</th></tr><tr><td>9</td><td>1726.4907</td></tr><tr><td>3</td><td>23151.4266</td></tr><tr><td>6</td><td>4523.956</td></tr><tr><td>7</td><td>3038.8283</td></tr><tr><td>1</td><td>3931.576</td></tr><tr><td>10</td><td>2663.5752</td></tr><tr><td>4</td><td>4362.242</td></tr><tr><td>5</td><td>18280.0398</td></tr><tr><td>2</td><td>22216.5046</td></tr><tr><td>8</td><td>2089.142</td></tr></table>"
                    },
                    "metadata": {}
                }
            ],
            "execution_count": 12
        },
        {
            "cell_type": "code",
            "source": [
                "USE AdventureWorks2012\n",
                "\n",
                "SELECT TOP(10) COUNT(*) as CountOfOrders,\n",
                "    YEAR(OrderDate) as OrderYear\n",
                "FROM sales.SalesOrderHeader\n",
                "GROUP by OrderDate\n",
                ""
            ],
            "metadata": {
                "language": "sql",
                "azdata_cell_guid": "e15a9cc6-8e0b-450a-81bb-fbf7c6c3c472"
            },
            "outputs": [
                {
                    "output_type": "display_data",
                    "data": {
                        "text/html": "(10 rows affected)"
                    },
                    "metadata": {}
                },
                {
                    "output_type": "display_data",
                    "data": {
                        "text/html": "Total execution time: 00:00:00.017"
                    },
                    "metadata": {}
                },
                {
                    "output_type": "execute_result",
                    "execution_count": 16,
                    "data": {
                        "application/vnd.dataresource+json": {
                            "schema": {
                                "fields": [
                                    {
                                        "name": "CountOfOrders"
                                    },
                                    {
                                        "name": "OrderYear"
                                    }
                                ]
                            },
                            "data": [
                                {
                                    "0": "8",
                                    "1": "2011"
                                },
                                {
                                    "0": "4",
                                    "1": "2011"
                                },
                                {
                                    "0": "5",
                                    "1": "2012"
                                },
                                {
                                    "0": "6",
                                    "1": "2012"
                                },
                                {
                                    "0": "12",
                                    "1": "2013"
                                },
                                {
                                    "0": "84",
                                    "1": "2014"
                                },
                                {
                                    "0": "5",
                                    "1": "2011"
                                },
                                {
                                    "0": "7",
                                    "1": "2011"
                                },
                                {
                                    "0": "12",
                                    "1": "2012"
                                },
                                {
                                    "0": "3",
                                    "1": "2012"
                                }
                            ]
                        },
                        "text/html": "<table><tr><th>CountOfOrders</th><th>OrderYear</th></tr><tr><td>8</td><td>2011</td></tr><tr><td>4</td><td>2011</td></tr><tr><td>5</td><td>2012</td></tr><tr><td>6</td><td>2012</td></tr><tr><td>12</td><td>2013</td></tr><tr><td>84</td><td>2014</td></tr><tr><td>5</td><td>2011</td></tr><tr><td>7</td><td>2011</td></tr><tr><td>12</td><td>2012</td></tr><tr><td>3</td><td>2012</td></tr></table>"
                    },
                    "metadata": {}
                }
            ],
            "execution_count": 16
        },
        {
            "cell_type": "code",
            "source": [
                "USE AdventureWorks2012\n",
                "\n",
                "SELECT \n",
                "    COUNT(*) as CountOfOrders,\n",
                "    YEAR(OrderDate) as OrderYear\n",
                "FROM sales.SalesOrderHeader\n",
                "GROUP by YEAR(OrderDate)"
            ],
            "metadata": {
                "language": "sql",
                "azdata_cell_guid": "e27bcd91-73f8-4a38-8836-5917c5ed8d3a"
            },
            "outputs": [
                {
                    "output_type": "display_data",
                    "data": {
                        "text/html": "(4 rows affected)"
                    },
                    "metadata": {}
                },
                {
                    "output_type": "display_data",
                    "data": {
                        "text/html": "Total execution time: 00:00:00.014"
                    },
                    "metadata": {}
                },
                {
                    "output_type": "execute_result",
                    "execution_count": 18,
                    "data": {
                        "application/vnd.dataresource+json": {
                            "schema": {
                                "fields": [
                                    {
                                        "name": "CountOfOrders"
                                    },
                                    {
                                        "name": "OrderYear"
                                    }
                                ]
                            },
                            "data": [
                                {
                                    "0": "14182",
                                    "1": "2013"
                                },
                                {
                                    "0": "11761",
                                    "1": "2014"
                                },
                                {
                                    "0": "1607",
                                    "1": "2011"
                                },
                                {
                                    "0": "3915",
                                    "1": "2012"
                                }
                            ]
                        },
                        "text/html": "<table><tr><th>CountOfOrders</th><th>OrderYear</th></tr><tr><td>14182</td><td>2013</td></tr><tr><td>11761</td><td>2014</td></tr><tr><td>1607</td><td>2011</td></tr><tr><td>3915</td><td>2012</td></tr></table>"
                    },
                    "metadata": {}
                }
            ],
            "execution_count": 18
        },
        {
            "cell_type": "code",
            "source": [
                "USE AdventureWorks2012\n",
                "\n",
                "SELECT COUNT(*) as CountOfProduct, ProductLine\n",
                "FROM Production.Product\n",
                "GROUP BY ProductLine\n",
                ""
            ],
            "metadata": {
                "azdata_cell_guid": "be237e62-9ca8-4ed8-93df-961658f5ee5a",
                "language": "sql"
            },
            "outputs": [
                {
                    "output_type": "display_data",
                    "data": {
                        "text/html": "(5 rows affected)"
                    },
                    "metadata": {}
                },
                {
                    "output_type": "display_data",
                    "data": {
                        "text/html": "Total execution time: 00:00:00.030"
                    },
                    "metadata": {}
                },
                {
                    "output_type": "execute_result",
                    "execution_count": 24,
                    "data": {
                        "application/vnd.dataresource+json": {
                            "schema": {
                                "fields": [
                                    {
                                        "name": "CountOfProduct"
                                    },
                                    {
                                        "name": "ProductLine"
                                    }
                                ]
                            },
                            "data": [
                                {
                                    "0": "226",
                                    "1": "NULL"
                                },
                                {
                                    "0": "91",
                                    "1": "M "
                                },
                                {
                                    "0": "100",
                                    "1": "R "
                                },
                                {
                                    "0": "35",
                                    "1": "S "
                                },
                                {
                                    "0": "52",
                                    "1": "T "
                                }
                            ]
                        },
                        "text/html": "<table><tr><th>CountOfProduct</th><th>ProductLine</th></tr><tr><td>226</td><td>NULL</td></tr><tr><td>91</td><td>M </td></tr><tr><td>100</td><td>R </td></tr><tr><td>35</td><td>S </td></tr><tr><td>52</td><td>T </td></tr></table>"
                    },
                    "metadata": {}
                }
            ],
            "execution_count": 24
        },
        {
            "cell_type": "code",
            "source": [
                "use AdventureWorks2012\n",
                "\n",
                "SELECT TOP(50) COUNT(*) as CountOfDetailLines, SalesOrderID\n",
                "    from sales.SalesOrderDetail\n",
                "    group by SalesOrderID\n",
                "HAVING count(*) > 3;"
            ],
            "metadata": {
                "azdata_cell_guid": "8b940514-33a5-4f79-b87d-4a56037b4bc1",
                "language": "sql"
            },
            "outputs": [
                {
                    "output_type": "display_data",
                    "data": {
                        "text/html": "(50 rows affected)"
                    },
                    "metadata": {}
                },
                {
                    "output_type": "display_data",
                    "data": {
                        "text/html": "Total execution time: 00:00:00.006"
                    },
                    "metadata": {}
                },
                {
                    "output_type": "execute_result",
                    "execution_count": 27,
                    "data": {
                        "application/vnd.dataresource+json": {
                            "schema": {
                                "fields": [
                                    {
                                        "name": "CountOfDetailLines"
                                    },
                                    {
                                        "name": "SalesOrderID"
                                    }
                                ]
                            },
                            "data": [
                                {
                                    "0": "12",
                                    "1": "43659"
                                },
                                {
                                    "0": "15",
                                    "1": "43661"
                                },
                                {
                                    "0": "22",
                                    "1": "43662"
                                },
                                {
                                    "0": "8",
                                    "1": "43664"
                                },
                                {
                                    "0": "10",
                                    "1": "43665"
                                },
                                {
                                    "0": "6",
                                    "1": "43666"
                                },
                                {
                                    "0": "4",
                                    "1": "43667"
                                },
                                {
                                    "0": "29",
                                    "1": "43668"
                                },
                                {
                                    "0": "4",
                                    "1": "43670"
                                },
                                {
                                    "0": "11",
                                    "1": "43671"
                                },
                                {
                                    "0": "11",
                                    "1": "43673"
                                },
                                {
                                    "0": "9",
                                    "1": "43675"
                                },
                                {
                                    "0": "5",
                                    "1": "43676"
                                },
                                {
                                    "0": "12",
                                    "1": "43677"
                                },
                                {
                                    "0": "19",
                                    "1": "43678"
                                },
                                {
                                    "0": "15",
                                    "1": "43680"
                                },
                                {
                                    "0": "21",
                                    "1": "43681"
                                },
                                {
                                    "0": "5",
                                    "1": "43682"
                                },
                                {
                                    "0": "13",
                                    "1": "43683"
                                },
                                {
                                    "0": "6",
                                    "1": "43684"
                                },
                                {
                                    "0": "4",
                                    "1": "43685"
                                },
                                {
                                    "0": "11",
                                    "1": "43688"
                                },
                                {
                                    "0": "21",
                                    "1": "43689"
                                },
                                {
                                    "0": "4",
                                    "1": "43690"
                                },
                                {
                                    "0": "28",
                                    "1": "43692"
                                },
                                {
                                    "0": "10",
                                    "1": "43693"
                                },
                                {
                                    "0": "11",
                                    "1": "43694"
                                },
                                {
                                    "0": "8",
                                    "1": "43695"
                                },
                                {
                                    "0": "10",
                                    "1": "43843"
                                },
                                {
                                    "0": "4",
                                    "1": "43844"
                                },
                                {
                                    "0": "10",
                                    "1": "43845"
                                },
                                {
                                    "0": "4",
                                    "1": "43846"
                                },
                                {
                                    "0": "5",
                                    "1": "43848"
                                },
                                {
                                    "0": "11",
                                    "1": "43849"
                                },
                                {
                                    "0": "11",
                                    "1": "43850"
                                },
                                {
                                    "0": "12",
                                    "1": "43851"
                                },
                                {
                                    "0": "6",
                                    "1": "43853"
                                },
                                {
                                    "0": "13",
                                    "1": "43855"
                                },
                                {
                                    "0": "14",
                                    "1": "43857"
                                },
                                {
                                    "0": "13",
                                    "1": "43858"
                                },
                                {
                                    "0": "4",
                                    "1": "43859"
                                },
                                {
                                    "0": "12",
                                    "1": "43860"
                                },
                                {
                                    "0": "27",
                                    "1": "43861"
                                },
                                {
                                    "0": "9",
                                    "1": "43862"
                                },
                                {
                                    "0": "4",
                                    "1": "43863"
                                },
                                {
                                    "0": "9",
                                    "1": "43864"
                                },
                                {
                                    "0": "14",
                                    "1": "43865"
                                },
                                {
                                    "0": "18",
                                    "1": "43867"
                                },
                                {
                                    "0": "10",
                                    "1": "43869"
                                },
                                {
                                    "0": "5",
                                    "1": "43870"
                                }
                            ]
                        },
                        "text/html": "<table><tr><th>CountOfDetailLines</th><th>SalesOrderID</th></tr><tr><td>12</td><td>43659</td></tr><tr><td>15</td><td>43661</td></tr><tr><td>22</td><td>43662</td></tr><tr><td>8</td><td>43664</td></tr><tr><td>10</td><td>43665</td></tr><tr><td>6</td><td>43666</td></tr><tr><td>4</td><td>43667</td></tr><tr><td>29</td><td>43668</td></tr><tr><td>4</td><td>43670</td></tr><tr><td>11</td><td>43671</td></tr><tr><td>11</td><td>43673</td></tr><tr><td>9</td><td>43675</td></tr><tr><td>5</td><td>43676</td></tr><tr><td>12</td><td>43677</td></tr><tr><td>19</td><td>43678</td></tr><tr><td>15</td><td>43680</td></tr><tr><td>21</td><td>43681</td></tr><tr><td>5</td><td>43682</td></tr><tr><td>13</td><td>43683</td></tr><tr><td>6</td><td>43684</td></tr><tr><td>4</td><td>43685</td></tr><tr><td>11</td><td>43688</td></tr><tr><td>21</td><td>43689</td></tr><tr><td>4</td><td>43690</td></tr><tr><td>28</td><td>43692</td></tr><tr><td>10</td><td>43693</td></tr><tr><td>11</td><td>43694</td></tr><tr><td>8</td><td>43695</td></tr><tr><td>10</td><td>43843</td></tr><tr><td>4</td><td>43844</td></tr><tr><td>10</td><td>43845</td></tr><tr><td>4</td><td>43846</td></tr><tr><td>5</td><td>43848</td></tr><tr><td>11</td><td>43849</td></tr><tr><td>11</td><td>43850</td></tr><tr><td>12</td><td>43851</td></tr><tr><td>6</td><td>43853</td></tr><tr><td>13</td><td>43855</td></tr><tr><td>14</td><td>43857</td></tr><tr><td>13</td><td>43858</td></tr><tr><td>4</td><td>43859</td></tr><tr><td>12</td><td>43860</td></tr><tr><td>27</td><td>43861</td></tr><tr><td>9</td><td>43862</td></tr><tr><td>4</td><td>43863</td></tr><tr><td>9</td><td>43864</td></tr><tr><td>14</td><td>43865</td></tr><tr><td>18</td><td>43867</td></tr><tr><td>10</td><td>43869</td></tr><tr><td>5</td><td>43870</td></tr></table>"
                    },
                    "metadata": {}
                }
            ],
            "execution_count": 27
        }
    ]
}